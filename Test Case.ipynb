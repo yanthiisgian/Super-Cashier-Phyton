{
 "cells": [
  {
   "cell_type": "code",
   "execution_count": 1,
   "id": "c2a9253d",
   "metadata": {},
   "outputs": [],
   "source": [
    "import CashierPhyton as test"
   ]
  },
  {
   "cell_type": "code",
   "execution_count": 2,
   "id": "95667f32",
   "metadata": {
    "scrolled": true
   },
   "outputs": [
    {
     "name": "stdout",
     "output_type": "stream",
     "text": [
      "Ditambahakan ke pesanan Anda:  Yakult, Qty: 1, Harga: Rp10000\n",
      "Ditambahakan ke pesanan Anda:  Rice Cooker, Qty: 1, Harga: Rp350000\n",
      "Ditambahakan ke pesanan Anda:  Sabun, Qty: 3, Harga: Rp40000\n",
      "Ditambahakan ke pesanan Anda:  Brokoli, Qty: 4, Harga: Rp35000\n",
      "Ditambahakan ke pesanan Anda:  Minyak goreng, Qty: 6, Harga: Rp35000\n"
     ]
    }
   ],
   "source": [
    "# Test 1: Menambahkan item\n",
    "# transaksi = test.transaction()\n",
    "\n",
    "transaksi = test.transaction()\n",
    "transaksi.add_item('Yakult', 1, 10_000)\n",
    "transaksi.add_item('Rice Cooker', 1, 350_000)\n",
    "transaksi.add_item('Sabun', 3, 40_000)\n",
    "transaksi.add_item('Brokoli', 4, 35_000)\n",
    "transaksi.add_item('Minyak goreng', 6, 35_000)"
   ]
  },
  {
   "cell_type": "code",
   "execution_count": 3,
   "id": "2fa63e51",
   "metadata": {},
   "outputs": [
    {
     "name": "stdout",
     "output_type": "stream",
     "text": [
      "Berikut daftar belanjaan Anda:\n",
      "+---------------+-------------+----------------+-----------------+\n",
      "|   Nama Item   | Jumlah Item | Harga/Item(Rp) | Harga Total(Rp) |\n",
      "+---------------+-------------+----------------+-----------------+\n",
      "|    Yakult     |      1      |     10000      |      10000      |\n",
      "|  Rice Cooker  |      1      |     350000     |     350000      |\n",
      "|     Sabun     |      3      |     40000      |     120000      |\n",
      "|    Brokoli    |      4      |     35000      |     140000      |\n",
      "| Minyak goreng |      6      |     35000      |     210000      |\n",
      "+---------------+-------------+----------------+-----------------+\n"
     ]
    }
   ],
   "source": [
    "# Test 2: menampilkan orderan\n",
    "# transaksi.show_order()\n",
    "\n",
    "transaksi.show_order()"
   ]
  },
  {
   "cell_type": "code",
   "execution_count": 4,
   "id": "4f2c6c24",
   "metadata": {
    "scrolled": false
   },
   "outputs": [
    {
     "name": "stdout",
     "output_type": "stream",
     "text": [
      "Sabun berhasil duperbarui menjadi Sabun Cair.\n",
      "\n",
      "Berikut daftar belanjaan Anda:\n",
      "+---------------+-------------+----------------+-----------------+\n",
      "|   Nama Item   | Jumlah Item | Harga/Item(Rp) | Harga Total(Rp) |\n",
      "+---------------+-------------+----------------+-----------------+\n",
      "|    Yakult     |      1      |     10000      |      10000      |\n",
      "|  Rice Cooker  |      1      |     350000     |     350000      |\n",
      "|    Brokoli    |      4      |     35000      |     140000      |\n",
      "| Minyak goreng |      6      |     35000      |     210000      |\n",
      "|  Sabun Cair   |      3      |     40000      |     120000      |\n",
      "+---------------+-------------+----------------+-----------------+\n"
     ]
    }
   ],
   "source": [
    "# Test 3: Mengubah nama item\n",
    "# transaksi.update_nama_item('nama_item', 'nama_baru')\n",
    "\n",
    "\n",
    "transaksi.update_nama_item('Sabun', 'Sabun Cair')"
   ]
  },
  {
   "cell_type": "code",
   "execution_count": 5,
   "id": "cc8526dc",
   "metadata": {},
   "outputs": [
    {
     "name": "stdout",
     "output_type": "stream",
     "text": [
      "Jumlah Yakult berhasil diperbarui menjadi 7.\n",
      "\n",
      "Berikut daftar belanjaan Anda:\n",
      "+---------------+-------------+----------------+-----------------+\n",
      "|   Nama Item   | Jumlah Item | Harga/Item(Rp) | Harga Total(Rp) |\n",
      "+---------------+-------------+----------------+-----------------+\n",
      "|    Yakult     |      7      |     10000      |      70000      |\n",
      "|  Rice Cooker  |      1      |     350000     |     350000      |\n",
      "|    Brokoli    |      4      |     35000      |     140000      |\n",
      "| Minyak goreng |      6      |     35000      |     210000      |\n",
      "|  Sabun Cair   |      3      |     40000      |     120000      |\n",
      "+---------------+-------------+----------------+-----------------+\n"
     ]
    }
   ],
   "source": [
    "# Test 4: Mengubah jumlah item\n",
    "# transaksi.update_jumlah_item('nama_item', jumlah_baru)\n",
    "\n",
    "transaksi.update_jumlah_item('Yakult', 7)"
   ]
  },
  {
   "cell_type": "code",
   "execution_count": 6,
   "id": "e938445c",
   "metadata": {
    "scrolled": true
   },
   "outputs": [
    {
     "name": "stdout",
     "output_type": "stream",
     "text": [
      "Harga Rice Cooker berhasil diperbarui menjadi Rp400000.\n",
      "\n",
      "Berikut daftar belanjaan Anda:\n",
      "+---------------+-------------+----------------+-----------------+\n",
      "|   Nama Item   | Jumlah Item | Harga/Item(Rp) | Harga Total(Rp) |\n",
      "+---------------+-------------+----------------+-----------------+\n",
      "|    Yakult     |      7      |     10000      |      70000      |\n",
      "|  Rice Cooker  |      1      |     400000     |     400000      |\n",
      "|    Brokoli    |      4      |     35000      |     140000      |\n",
      "| Minyak goreng |      6      |     35000      |     210000      |\n",
      "|  Sabun Cair   |      3      |     40000      |     120000      |\n",
      "+---------------+-------------+----------------+-----------------+\n"
     ]
    }
   ],
   "source": [
    "# Test 5: Mengubah harga item\n",
    "# transaksi.update_harga_item('nama_item', harga_baru)\n",
    "\n",
    "transaksi.update_harga_item('Rice Cooker', 40_0000)"
   ]
  },
  {
   "cell_type": "code",
   "execution_count": 7,
   "id": "b5faee7a",
   "metadata": {},
   "outputs": [
    {
     "name": "stdout",
     "output_type": "stream",
     "text": [
      "Menghapus item Yakult\n",
      "Daftar belanjaan Anda berhasil diperbarui.\n",
      "\n",
      "Berikut daftar belanjaan Anda:\n",
      "+---------------+-------------+----------------+-----------------+\n",
      "|   Nama Item   | Jumlah Item | Harga/Item(Rp) | Harga Total(Rp) |\n",
      "+---------------+-------------+----------------+-----------------+\n",
      "|  Rice Cooker  |      1      |     400000     |     400000      |\n",
      "|    Brokoli    |      4      |     35000      |     140000      |\n",
      "| Minyak goreng |      6      |     35000      |     210000      |\n",
      "|  Sabun Cair   |      3      |     40000      |     120000      |\n",
      "+---------------+-------------+----------------+-----------------+\n"
     ]
    }
   ],
   "source": [
    "# Test 6: Menghapus item\n",
    "# transaksi.delete_item\n",
    "\n",
    "transaksi.delete_item('Yakult')"
   ]
  },
  {
   "cell_type": "code",
   "execution_count": 8,
   "id": "787ae49f",
   "metadata": {},
   "outputs": [
    {
     "name": "stdout",
     "output_type": "stream",
     "text": [
      "+---------------+-------------+----------------+-----------------+\n",
      "|   Nama Item   | Jumlah Item | Harga/Item(Rp) | Harga Total(Rp) |\n",
      "+---------------+-------------+----------------+-----------------+\n",
      "|  Rice Cooker  |      1      |     400000     |     400000      |\n",
      "|    Brokoli    |      4      |     35000      |     140000      |\n",
      "| Minyak goreng |      6      |     35000      |     210000      |\n",
      "|  Sabun Cair   |      3      |     40000      |     120000      |\n",
      "+---------------+-------------+----------------+-----------------+\n",
      "Pesanan sudah benar.\n"
     ]
    }
   ],
   "source": [
    "# Test 7: Check orderan\n",
    "# transaksi.check_order()\n",
    "\n",
    "transaksi.check_order()"
   ]
  },
  {
   "cell_type": "code",
   "execution_count": 9,
   "id": "2e89fe26",
   "metadata": {},
   "outputs": [
    {
     "name": "stdout",
     "output_type": "stream",
     "text": [
      "Semua daftar berlanjaan Anda berhasil dihapus.\n"
     ]
    }
   ],
   "source": [
    "# Test 8: Menghapus item / mengulang proses input data orderan\n",
    "# transaksi.reset_transaction()\n",
    "\n",
    "transaksi.reset_transaction()"
   ]
  },
  {
   "cell_type": "code",
   "execution_count": 10,
   "id": "f871da1d",
   "metadata": {
    "scrolled": true
   },
   "outputs": [
    {
     "name": "stdout",
     "output_type": "stream",
     "text": [
      "Ditambahakan ke pesanan Anda:  Yakult, Qty: 1, Harga: Rp10000\n",
      "Ditambahakan ke pesanan Anda:  Rice Cooker, Qty: 1, Harga: Rp350000\n",
      "Ditambahakan ke pesanan Anda:  Sabun, Qty: 3, Harga: Rp40000\n",
      "Ditambahakan ke pesanan Anda:  Brokoli, Qty: 4, Harga: Rp35000\n",
      "Ditambahakan ke pesanan Anda:  Minyak goreng, Qty: 6, Harga: Rp35000\n"
     ]
    }
   ],
   "source": [
    "transaksi = test.transaction()\n",
    "transaksi.add_item('Yakult', 1, 10_000)\n",
    "transaksi.add_item('Rice Cooker', 1, 350_000)\n",
    "transaksi.add_item('Sabun', 3, 40_000)\n",
    "transaksi.add_item('Brokoli', 4, 35_000)\n",
    "transaksi.add_item('Minyak goreng', 6, 35_000)"
   ]
  },
  {
   "cell_type": "code",
   "execution_count": 12,
   "id": "24005ed3",
   "metadata": {},
   "outputs": [
    {
     "name": "stdout",
     "output_type": "stream",
     "text": [
      "+---------------+-------------+----------------+-----------------+\n",
      "|   Nama Item   | Jumlah Item | Harga/Item(Rp) | Harga Total(Rp) |\n",
      "+---------------+-------------+----------------+-----------------+\n",
      "|    Yakult     |      1      |     10000      |      10000      |\n",
      "|  Rice Cooker  |      1      |     350000     |     350000      |\n",
      "|     Sabun     |      3      |     40000      |     120000      |\n",
      "|    Brokoli    |      4      |     35000      |     140000      |\n",
      "| Minyak goreng |      6      |     35000      |     210000      |\n",
      "+---------------+-------------+----------------+-----------------+\n",
      "Pesanan sudah benar.\n",
      "Anda mendapatkan diskon 10%,sebesar Rp 83000.\n",
      "Total belanja Anda menjadi: Rp 747000\n"
     ]
    }
   ],
   "source": [
    "# Test 9: Menghitung harga total\n",
    "# transaksi.proses_bayar()\n",
    "\n",
    "transaksi.proses_bayar()"
   ]
  },
  {
   "cell_type": "code",
   "execution_count": 17,
   "id": "108d0300",
   "metadata": {},
   "outputs": [
    {
     "name": "stdout",
     "output_type": "stream",
     "text": [
      "ERROR: INPUT SALAH. Coba Lagi!\n"
     ]
    }
   ],
   "source": [
    "# Test 10: test ERROR\n",
    "\n",
    "transaksi.add_item('Roti', 's', 10_000)\n"
   ]
  },
  {
   "cell_type": "code",
   "execution_count": 18,
   "id": "f94adda8",
   "metadata": {},
   "outputs": [
    {
     "name": "stdout",
     "output_type": "stream",
     "text": [
      "Ditambahakan ke pesanan Anda:  Roti, Qty: -3, Harga: Rp10000\n"
     ]
    }
   ],
   "source": [
    "transaksi.add_item('Roti', -3, 10_000)"
   ]
  },
  {
   "cell_type": "code",
   "execution_count": 19,
   "id": "f16f1a1a",
   "metadata": {},
   "outputs": [
    {
     "name": "stdout",
     "output_type": "stream",
     "text": [
      "+---------------+-------------+----------------+-----------------+\n",
      "|   Nama Item   | Jumlah Item | Harga/Item(Rp) | Harga Total(Rp) |\n",
      "+---------------+-------------+----------------+-----------------+\n",
      "|    Yakult     |      1      |     10000      |      10000      |\n",
      "|  Rice Cooker  |      1      |     350000     |     350000      |\n",
      "|     Sabun     |      3      |     40000      |     120000      |\n",
      "|    Brokoli    |      4      |     35000      |     140000      |\n",
      "| Minyak goreng |      6      |     35000      |     210000      |\n",
      "|     Roti      |     -3      |     10000      |     -30000      |\n",
      "+---------------+-------------+----------------+-----------------+\n",
      "tedapat kesalahan input nama / jumlah/ harga. Mohon cek ulang pesanan\n"
     ]
    }
   ],
   "source": [
    "transaksi.check_order()"
   ]
  },
  {
   "cell_type": "code",
   "execution_count": 20,
   "id": "1f3e860c",
   "metadata": {
    "scrolled": true
   },
   "outputs": [
    {
     "name": "stdout",
     "output_type": "stream",
     "text": [
      "+---------------+-------------+----------------+-----------------+\n",
      "|   Nama Item   | Jumlah Item | Harga/Item(Rp) | Harga Total(Rp) |\n",
      "+---------------+-------------+----------------+-----------------+\n",
      "|    Yakult     |      1      |     10000      |      10000      |\n",
      "|  Rice Cooker  |      1      |     350000     |     350000      |\n",
      "|     Sabun     |      3      |     40000      |     120000      |\n",
      "|    Brokoli    |      4      |     35000      |     140000      |\n",
      "| Minyak goreng |      6      |     35000      |     210000      |\n",
      "|     Roti      |     -3      |     10000      |     -30000      |\n",
      "+---------------+-------------+----------------+-----------------+\n",
      "tedapat kesalahan input nama / jumlah/ harga. Mohon cek ulang pesanan\n",
      "ERROR\n"
     ]
    }
   ],
   "source": [
    "transaksi.proses_bayar()"
   ]
  },
  {
   "cell_type": "code",
   "execution_count": 21,
   "id": "3cf50e00",
   "metadata": {},
   "outputs": [
    {
     "name": "stdout",
     "output_type": "stream",
     "text": [
      "Berikut daftar belanjaan Anda:\n",
      "+---------------+-------------+----------------+-----------------+\n",
      "|   Nama Item   | Jumlah Item | Harga/Item(Rp) | Harga Total(Rp) |\n",
      "+---------------+-------------+----------------+-----------------+\n",
      "|    Yakult     |      1      |     10000      |      10000      |\n",
      "|  Rice Cooker  |      1      |     350000     |     350000      |\n",
      "|     Sabun     |      3      |     40000      |     120000      |\n",
      "|    Brokoli    |      4      |     35000      |     140000      |\n",
      "| Minyak goreng |      6      |     35000      |     210000      |\n",
      "|     Roti      |     -3      |     10000      |     -30000      |\n",
      "+---------------+-------------+----------------+-----------------+\n"
     ]
    }
   ],
   "source": [
    "transaksi.show_order()"
   ]
  }
 ],
 "metadata": {
  "kernelspec": {
   "display_name": "Python 3 (ipykernel)",
   "language": "python",
   "name": "python3"
  },
  "language_info": {
   "codemirror_mode": {
    "name": "ipython",
    "version": 3
   },
   "file_extension": ".py",
   "mimetype": "text/x-python",
   "name": "python",
   "nbconvert_exporter": "python",
   "pygments_lexer": "ipython3",
   "version": "3.9.13"
  }
 },
 "nbformat": 4,
 "nbformat_minor": 5
}
